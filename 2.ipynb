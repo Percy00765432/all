{
 "cells": [
  {
   "cell_type": "code",
   "execution_count": 4,
   "metadata": {},
   "outputs": [
    {
     "name": "stdout",
     "output_type": "stream",
     "text": [
      "Training Features [[10.0], [7.0], [5.0], [8.0]]\n",
      "Training Labels [20, 14, 10, 16]\n",
      "Training Data [[6.0], [9.0], [4.0]]\n",
      "Testing Data [12, 18, 8]\n",
      "Accuracy - test set: 100.00%\n",
      "[24.]\n"
     ]
    }
   ],
   "source": [
    "#import modules\n",
    "import warnings\n",
    "import pandas as pd\n",
    "from sklearn import model_selection\n",
    "import numpy as np\n",
    "import sklearn\n",
    "from sklearn import linear_model\n",
    "X=[[4.0],[5.0],[6.0],[7.0],[8.0],[9.0],[10.0]]\n",
    "y=[  8, 10 , 12, 14, 16, 18, 20]\n",
    "X_train, X_test, y_train, y_test = model_selection.train_test_split(X, y, test_size=0.3, random_state=7)\n",
    "print(\"Training Features\", X_train);print(\"Training Labels\",y_train);print(\"Training Data\",X_test);print(\"Testing Data\",y_test)\n",
    "reg=linear_model.LinearRegression()\n",
    "reg.fit(X_train,y_train)\n",
    "#accuracy on test set\n",
    "result = reg.score(X_test, y_test)\n",
    "print(\"Accuracy - test set: %.2f%%\" % (result*100.0))\n",
    "X_height=[[12.0]]\n",
    "print(reg.predict(X_height))"
   ]
  },
  {
   "cell_type": "code",
   "execution_count": 2,
   "metadata": {},
   "outputs": [
    {
     "name": "stdout",
     "output_type": "stream",
     "text": [
      "[109.]\n",
      "[235.]\n"
     ]
    }
   ],
   "source": [
    "import pandas as pd\n",
    "x=[[4.0],[5.0],[6.0],[7.0],[8.0],[9.0],[10.0]]\n",
    "y=[  16, 25 , 36, 49,64,81, 100]\n",
    "# Step 2 - Fitting Linear Regression\n",
    "from sklearn.linear_model import LinearRegression\n",
    "lin_reg = LinearRegression()\n",
    "lin_reg.fit(x,y)\n",
    "\n",
    "# Step 4 Linear Regression prediction\n",
    "print(lin_reg.predict([[11]]))\n",
    "from sklearn.pipeline import make_pipeline\n",
    "from sklearn.preprocessing import PolynomialFeatures\n",
    "\n",
    "polynomial_regression = make_pipeline(\n",
    "    PolynomialFeatures(degree=1, include_bias=False),\n",
    "    LinearRegression(),\n",
    ")\n",
    "polynomial_regression.fit(x,y)\n",
    "X_height=[[20.0]]\n",
    "target_predicted = polynomial_regression.predict(X_height)\n",
    "print(target_predicted)"
   ]
  }
 ],
 "metadata": {
  "kernelspec": {
   "display_name": "Python 3",
   "language": "python",
   "name": "python3"
  },
  "language_info": {
   "codemirror_mode": {
    "name": "ipython",
    "version": 3
   },
   "file_extension": ".py",
   "mimetype": "text/x-python",
   "name": "python",
   "nbconvert_exporter": "python",
   "pygments_lexer": "ipython3",
   "version": "3.13.0"
  }
 },
 "nbformat": 4,
 "nbformat_minor": 2
}
